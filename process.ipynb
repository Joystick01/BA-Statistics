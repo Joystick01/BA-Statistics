{
 "cells": [
  {
   "cell_type": "markdown",
   "metadata": {},
   "source": [
    "# Filter and save as parquet"
   ]
  },
  {
   "cell_type": "code",
   "execution_count": 67,
   "metadata": {},
   "outputs": [],
   "source": [
    "from pyspark.sql import SparkSession\n",
    "spark = SparkSession.builder \\\n",
    ".config(\"spark.driver.host\", \"localhost\") \\\n",
    ".config(\"spark.driver.extraJavaOptions\", \"-Djava.security.manager=allow\") \\\n",
    ".config(\"spark.executor.extraJavaOptions\", \"-Djava.security.manager=allow\") \\\n",
    ".getOrCreate()"
   ]
  },
  {
   "cell_type": "code",
   "execution_count": 68,
   "metadata": {},
   "outputs": [],
   "source": [
    "run = \"low_v3\"\n",
    "\n",
    "cpu_load = \"/media/kakn/storage/prometheus_export/\" + run + \"/processor_cpu_full.json\"\n",
    "message_folder = \"/media/kakn/storage/message_export/\" + run + \"/egress\""
   ]
  },
  {
   "cell_type": "code",
   "execution_count": 69,
   "metadata": {},
   "outputs": [],
   "source": [
    "range_start = 0\n",
    "range_end = 0\n",
    "\n",
    "import json, os\n",
    "\n",
    "with open(cpu_load, \"r\") as f:\n",
    "    cpu_load = json.load(f)[\"data\"][\"result\"][0][\"values\"]\n",
    "    cpu_load = list(map(lambda x: (x[0], float(x[1])), cpu_load))\n",
    "\n",
    "\n",
    "for i in range(len(cpu_load) - 19 ):\n",
    "    if all(cpu_load[j][1] < 0.5 for j in range(i, i + 20)):\n",
    "        range_start = cpu_load[i][0]\n",
    "        break\n",
    "\n",
    "for i in range(len(cpu_load) - 19):\n",
    "    if all(cpu_load[j][1] < 0.02 for j in range(i, i + 20)):\n",
    "        range_end = cpu_load[i-1][0]\n",
    "        break\n",
    "\n",
    "range_start = int(range_start * 1000)\n",
    "range_end = int(range_end * 1000)"
   ]
  },
  {
   "cell_type": "code",
   "execution_count": 70,
   "metadata": {},
   "outputs": [],
   "source": [
    "input_path = \"/media/kakn/storage/filtered/manual/\" + run\n",
    "input_egress_path = input_path + \"/egress\"\n",
    "input_ingress_path = input_path + \"/ingress\"\n"
   ]
  },
  {
   "cell_type": "code",
   "execution_count": 71,
   "metadata": {},
   "outputs": [
    {
     "name": "stderr",
     "output_type": "stream",
     "text": [
      "                                                                                \r"
     ]
    },
    {
     "name": "stdout",
     "output_type": "stream",
     "text": [
      "Outlier threshold:  151.0\n",
      "Q1:  26.0\n",
      "Q3:  76.0\n",
      "IQR:  50.0\n"
     ]
    },
    {
     "name": "stderr",
     "output_type": "stream",
     "text": [
      "                                                                                \r"
     ]
    },
    {
     "name": "stdout",
     "output_type": "stream",
     "text": [
      "Number of outliers:  0\n"
     ]
    },
    {
     "name": "stderr",
     "output_type": "stream",
     "text": [
      "[Stage 413:=========================================>             (12 + 4) / 16]\r"
     ]
    },
    {
     "name": "stdout",
     "output_type": "stream",
     "text": [
      "Number of messages:  458294\n"
     ]
    },
    {
     "name": "stderr",
     "output_type": "stream",
     "text": [
      "                                                                                \r"
     ]
    }
   ],
   "source": [
    "import json\n",
    "import pyspark.sql.functions as F\n",
    "import pandas as pd\n",
    "\n",
    "ingress_frame = spark.read.json(input_ingress_path)\n",
    "egress_frame = spark.read.json(input_egress_path)\n",
    "\n",
    "drop_cols = [\"firmwareVersion\", \"temperature\", \"powerState\", \"coolerState\", \"doorOpenCount\", \"doorCloseCount\", \"doorOpenTime\", \"batteryLevel\", \"latitude\", \"longitude\", \"locationType\", \"locationConfidence\", \"wifiCount\", \"mobileCellId\", \"mobileCellType\", \"mobileMNC\", \"mobileMCC\", \"mobileRSSI\", \"mobileLac\", \"messageType\", \"plausibilityState\"]\n",
    "\n",
    "ingress_frame = ingress_frame.filter((ingress_frame.kafkaTime >= range_start) & (ingress_frame.kafkaTime <= range_end))   \n",
    "ingress_frame = ingress_frame.drop_duplicates()\n",
    "ingress_frame = ingress_frame.drop(*drop_cols)\n",
    "\n",
    "egress_frame = egress_frame.drop(*drop_cols)\n",
    "egress_frame = egress_frame.filter((egress_frame.kafkaTime >= range_start) & (egress_frame.kafkaTime <= range_end))\n",
    "\n",
    "combined_frame = egress_frame.join(\n",
    "    other= ingress_frame, \n",
    "    on=[\"traceId\", \"cng_deviceId\", \"timestamp\", \"timePeriodStart\", \"messageTimestamp\"], \n",
    "    how=\"inner\"\n",
    "    )\n",
    "\n",
    "drop_cols = [\"timestamp\", \"timePeriodStart\", \"messageTimestamp\", \"deduplicationHash\"]\n",
    "combined_frame = combined_frame.drop(*drop_cols)\n",
    "\n",
    "combined_frame = combined_frame.withColumn(\"latency\", egress_frame.kafkaTime - ingress_frame.kafkaTime)\n",
    "\n",
    "combined_frame = combined_frame.filter(combined_frame.latency > 0)\n",
    "\n",
    "\n",
    "# get the outlier threshold\n",
    "latency = combined_frame.select(\"latency\").toPandas()\n",
    "latency = latency[\"latency\"]\n",
    "latency = latency.to_numpy()\n",
    "latency = pd.Series(latency)\n",
    "Q1 = latency.quantile(0.25)\n",
    "Q3 = latency.quantile(0.75)\n",
    "IQR = Q3 - Q1\n",
    "outlier_threshold = Q3 + 1.5 * IQR\n",
    "\n",
    "print(\"Outlier threshold: \", outlier_threshold)\n",
    "print(\"Q1: \", Q1)\n",
    "print(\"Q3: \", Q3)\n",
    "print(\"IQR: \", IQR)\n",
    "\n",
    "# get the number of outliers\n",
    "outliers = combined_frame.filter(combined_frame.latency > outlier_threshold)\n",
    "print(\"Number of outliers: \", outliers.count())\n",
    "\n",
    "# get the number of messages\n",
    "print(\"Number of messages: \", combined_frame.count())\n",
    "\n",
    "\n",
    "#histogram of latency\n",
    "#combined_frame.select(\"latency\").toPandas().hist(bins=100)\n",
    "\n",
    "#graph of latency\n",
    "#combined_frame.select(\"latency\").toPandas().plot()\n",
    "\n",
    "\n",
    "\n",
    "# combined_frame.select(F.mean(\"latency\"), F.median(\"latency\"), F.std(\"latency\"), F.min(\"latency\"), F.max(\"latency\"), F.percentile(\"latency\", 0.95), F.percentile(\"latency\", 0.99)).show(vertical=True)"
   ]
  }
 ],
 "metadata": {
  "kernelspec": {
   "display_name": "base",
   "language": "python",
   "name": "python3"
  },
  "language_info": {
   "codemirror_mode": {
    "name": "ipython",
    "version": 3
   },
   "file_extension": ".py",
   "mimetype": "text/x-python",
   "name": "python",
   "nbconvert_exporter": "python",
   "pygments_lexer": "ipython3",
   "version": "3.12.2"
  }
 },
 "nbformat": 4,
 "nbformat_minor": 4
}
