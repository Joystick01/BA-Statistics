{
 "cells": [
  {
   "cell_type": "markdown",
   "metadata": {},
   "source": [
    "# Filter and save as parquet"
   ]
  },
  {
   "cell_type": "code",
   "execution_count": 4,
   "metadata": {},
   "outputs": [
    {
     "name": "stderr",
     "output_type": "stream",
     "text": [
      "/home/kakn/anaconda3/lib/python3.12/site-packages/distributed/node.py:187: UserWarning: Port 8787 is already in use.\n",
      "Perhaps you already have a cluster running?\n",
      "Hosting the HTTP server on port 41475 instead\n",
      "  warnings.warn(\n"
     ]
    }
   ],
   "source": [
    "#from dask.distributed import LocalCluster\n",
    "#client = LocalCluster().get_client()"
   ]
  },
  {
   "cell_type": "code",
   "execution_count": 1,
   "metadata": {},
   "outputs": [],
   "source": [
    "input_path = \"/media/kakn/storage/filtered/manual/low_v1\"\n",
    "output_file = \"/media/kakn/storage/filtered/low_v1_benchmark.parquet\"\n",
    "range_start = 1736680895\n",
    "range_end = 1736684707\n",
    "\n",
    "import datetime\n",
    "range_start = datetime.datetime.fromtimestamp(range_start)\n",
    "range_end = datetime.datetime.fromtimestamp(range_end)\n",
    "\n",
    "\n",
    "input_egress_path = input_path + \"/egress\"\n",
    "input_ingress_path = input_path + \"/ingress\"\n"
   ]
  },
  {
   "cell_type": "code",
   "execution_count": null,
   "metadata": {},
   "outputs": [
    {
     "name": "stdout",
     "output_type": "stream",
     "text": [
      "Combined frame columns:  traceId                       int32\n",
      "deduplicationHash             int64\n",
      "kafkaTime_egress     datetime64[ns]\n",
      "kafkaTime_ingress    datetime64[ns]\n",
      "latency                       int64\n",
      "dtype: object\n"
     ]
    }
   ],
   "source": [
    "import os\n",
    "import dask.dataframe as dd\n",
    "\n",
    "ingress_files = list(map( lambda x: os.path.join(input_ingress_path, x), [pos_json for pos_json in os.listdir(input_ingress_path) if pos_json.endswith('.json')]))\n",
    "egress_files = list(map( lambda x: os.path.join(input_egress_path, x),[pos_json for pos_json in os.listdir(input_egress_path) if pos_json.endswith('.json')]))\n",
    "\n",
    "structure = {\n",
    "        \"cng_deviceId\": \"str\",\n",
    "        \"timestamp\": \"datetime64[ns]\",\n",
    "        \"timePeriodStart\": \"datetime64[ns]\",\n",
    "        \"messageTimestamp\": \"datetime64[ns]\",\n",
    "        \"firmwareVersion\": \"str\",\n",
    "        \"temperature\": \"float64\",\n",
    "        \"powerState\": \"int8\",\n",
    "        \"coolerState\": \"int8\",\n",
    "        \"doorOpenCount\": \"int8\",\n",
    "        \"doorCloseCount\": \"int8\",\n",
    "        \"doorOpenTime\": \"int16\",\n",
    "        \"batteryLevel\": \"int8\",\n",
    "        \"latitude\": \"float64\",\n",
    "        \"longitude\": \"float64\",\n",
    "        \"locationType\": \"str\",\n",
    "        \"locationConfidence\": \"float64\",\n",
    "        \"wifiCount\": \"int8\",\n",
    "        \"mobileCellId\": \"str\",\n",
    "        \"mobileCellType\": \"str\",\n",
    "        \"mobileMNC\": \"int8\",\n",
    "        \"mobileMCC\": \"int16\",\n",
    "        \"mobileRSSI\": \"int8\",\n",
    "        \"mobileLac\": \"int8\",\n",
    "        \"messageType\": \"int8\",\n",
    "        \"plausibilityState\": \"int8\",\n",
    "        \"traceId\": \"int32\",\n",
    "        \"deduplicationHash\": \"int64\",\n",
    "        \"kafkaTime\": \"datetime64[ns]\", \n",
    "    }\n",
    "\n",
    "\n",
    "ingress_frame = dd.read_json(\n",
    "    ingress_files,\n",
    "    lines=True,\n",
    "    blocksize=620,\n",
    "    meta=structure\n",
    "    )\n",
    "\n",
    "egress_frame = dd.read_json(\n",
    "    egress_files,\n",
    "    lines=True,\n",
    "    blocksize=620,\n",
    "    meta=structure\n",
    "    )\n",
    "\n",
    "ingress_frame = ingress_frame \\\n",
    "    .drop([\"cng_deviceId\", \"timestamp\", \"timePeriodStart\", \"messageTimestamp\", \"firmwareVersion\", \"temperature\", \"powerState\", \"coolerState\", \"doorOpenCount\", \"doorCloseCount\", \"doorOpenTime\", \"batteryLevel\", \"latitude\", \"longitude\", \"locationType\", \"locationConfidence\", \"wifiCount\", \"mobileCellId\", \"mobileCellType\", \"mobileMNC\", \"mobileMCC\", \"mobileRSSI\", \"mobileLac\", \"messageType\", \"plausibilityState\"], axis=1) \\\n",
    "    .query(\"kafkaTime >= @range_start and kafkaTime <= @range_end\", local_dict={\"range_start\": range_start, \"range_end\": range_end}) \\\n",
    "\n",
    "egress_frame = egress_frame \\\n",
    "    .drop([\"cng_deviceId\", \"timestamp\", \"timePeriodStart\", \"messageTimestamp\", \"firmwareVersion\", \"temperature\", \"powerState\", \"coolerState\", \"doorOpenCount\", \"doorCloseCount\", \"doorOpenTime\", \"batteryLevel\", \"latitude\", \"longitude\", \"locationType\", \"locationConfidence\", \"wifiCount\", \"mobileCellId\", \"mobileCellType\", \"mobileMNC\", \"mobileMCC\", \"mobileRSSI\", \"mobileLac\", \"messageType\", \"plausibilityState\"], axis=1) \\\n",
    "    .query(\"kafkaTime >= @range_start and kafkaTime <= @range_end\", local_dict={\"range_start\": range_start, \"range_end\": range_end}) \\\n",
    "\n",
    "combined_frame = egress_frame.merge(\n",
    "    ingress_frame, \n",
    "    on=[\"traceId\", \"deduplicationHash\"], \n",
    "    how=\"inner\", \n",
    "    suffixes=('_egress', '_ingress')\n",
    "    )\n",
    "\n",
    "\n",
    "combined_frame = combined_frame.assign(latency=lambda x: (x.kafkaTime_egress - x.kafkaTime_ingress).astype('int64'))\n",
    "\n",
    "print(\"Combined frame columns: \", combined_frame.dtypes)\n",
    "\n",
    "combined_frame.to_parquet(output_file)\n",
    "\n",
    "#mean_latency = combined_frame.latency.mean().compute()\n",
    "#median_latency = combined_frame.latency.median_approximate()\n",
    "#std_latency = combined_frame.latency.std()\n",
    "#max_latency = combined_frame.latency.max()\n",
    "#min_latency = combined_frame.latency.min()\n",
    "#percentile_95_latency = combined_frame.latency.quantile(0.95)\n",
    "#percentile_99_latency = combined_frame.latency.quantile(0.99)\n",
    "\n",
    "#dd.compute(mean_latency, median_latency, std_latency, max_latency, min_latency, percentile_95_latency, percentile_99_latency)\n",
    "\n",
    "#print(\"Mean latency: \", mean_latency)\n",
    "#print(\"Median latency: \", median_latency)\n",
    "#print(\"Std latency: \", std_latency)\n",
    "#print(\"Max latency: \", max_latency)\n",
    "#print(\"Min latency: \", min_latency)\n",
    "#print(\"95th percentile latency: \", percentile_95_latency)\n",
    "#print(\"99th percentile latency: \", percentile_99_latency)\n"
   ]
  },
  {
   "cell_type": "code",
   "execution_count": 3,
   "metadata": {},
   "outputs": [
    {
     "ename": "KeyboardInterrupt",
     "evalue": "",
     "output_type": "error",
     "traceback": [
      "\u001b[0;31m---------------------------------------------------------------------------\u001b[0m",
      "\u001b[0;31mKeyboardInterrupt\u001b[0m                         Traceback (most recent call last)",
      "Cell \u001b[0;32mIn[3], line 1\u001b[0m\n\u001b[0;32m----> 1\u001b[0m mean_latency \u001b[38;5;241m=\u001b[39m combined_frame\u001b[38;5;241m.\u001b[39mlatency\u001b[38;5;241m.\u001b[39mmean()\u001b[38;5;241m.\u001b[39mcompute()\n\u001b[1;32m      2\u001b[0m \u001b[38;5;28mprint\u001b[39m(\u001b[38;5;124m\"\u001b[39m\u001b[38;5;124mMean latency: \u001b[39m\u001b[38;5;124m\"\u001b[39m, mean_latency)\n",
      "File \u001b[0;32m~/anaconda3/lib/python3.12/site-packages/dask_expr/_collection.py:480\u001b[0m, in \u001b[0;36mFrameBase.compute\u001b[0;34m(self, fuse, concatenate, **kwargs)\u001b[0m\n\u001b[1;32m    478\u001b[0m     out \u001b[38;5;241m=\u001b[39m out\u001b[38;5;241m.\u001b[39mrepartition(npartitions\u001b[38;5;241m=\u001b[39m\u001b[38;5;241m1\u001b[39m)\n\u001b[1;32m    479\u001b[0m out \u001b[38;5;241m=\u001b[39m out\u001b[38;5;241m.\u001b[39moptimize(fuse\u001b[38;5;241m=\u001b[39mfuse)\n\u001b[0;32m--> 480\u001b[0m \u001b[38;5;28;01mreturn\u001b[39;00m DaskMethodsMixin\u001b[38;5;241m.\u001b[39mcompute(out, \u001b[38;5;241m*\u001b[39m\u001b[38;5;241m*\u001b[39mkwargs)\n",
      "File \u001b[0;32m~/anaconda3/lib/python3.12/site-packages/dask/base.py:372\u001b[0m, in \u001b[0;36mDaskMethodsMixin.compute\u001b[0;34m(self, **kwargs)\u001b[0m\n\u001b[1;32m    348\u001b[0m \u001b[38;5;28;01mdef\u001b[39;00m \u001b[38;5;21mcompute\u001b[39m(\u001b[38;5;28mself\u001b[39m, \u001b[38;5;241m*\u001b[39m\u001b[38;5;241m*\u001b[39mkwargs):\n\u001b[1;32m    349\u001b[0m \u001b[38;5;250m    \u001b[39m\u001b[38;5;124;03m\"\"\"Compute this dask collection\u001b[39;00m\n\u001b[1;32m    350\u001b[0m \n\u001b[1;32m    351\u001b[0m \u001b[38;5;124;03m    This turns a lazy Dask collection into its in-memory equivalent.\u001b[39;00m\n\u001b[0;32m   (...)\u001b[0m\n\u001b[1;32m    370\u001b[0m \u001b[38;5;124;03m    dask.compute\u001b[39;00m\n\u001b[1;32m    371\u001b[0m \u001b[38;5;124;03m    \"\"\"\u001b[39;00m\n\u001b[0;32m--> 372\u001b[0m     (result,) \u001b[38;5;241m=\u001b[39m compute(\u001b[38;5;28mself\u001b[39m, traverse\u001b[38;5;241m=\u001b[39m\u001b[38;5;28;01mFalse\u001b[39;00m, \u001b[38;5;241m*\u001b[39m\u001b[38;5;241m*\u001b[39mkwargs)\n\u001b[1;32m    373\u001b[0m     \u001b[38;5;28;01mreturn\u001b[39;00m result\n",
      "File \u001b[0;32m~/anaconda3/lib/python3.12/site-packages/dask/base.py:660\u001b[0m, in \u001b[0;36mcompute\u001b[0;34m(traverse, optimize_graph, scheduler, get, *args, **kwargs)\u001b[0m\n\u001b[1;32m    657\u001b[0m     postcomputes\u001b[38;5;241m.\u001b[39mappend(x\u001b[38;5;241m.\u001b[39m__dask_postcompute__())\n\u001b[1;32m    659\u001b[0m \u001b[38;5;28;01mwith\u001b[39;00m shorten_traceback():\n\u001b[0;32m--> 660\u001b[0m     results \u001b[38;5;241m=\u001b[39m schedule(dsk, keys, \u001b[38;5;241m*\u001b[39m\u001b[38;5;241m*\u001b[39mkwargs)\n\u001b[1;32m    662\u001b[0m \u001b[38;5;28;01mreturn\u001b[39;00m repack([f(r, \u001b[38;5;241m*\u001b[39ma) \u001b[38;5;28;01mfor\u001b[39;00m r, (f, a) \u001b[38;5;129;01min\u001b[39;00m \u001b[38;5;28mzip\u001b[39m(results, postcomputes)])\n",
      "File \u001b[0;32m~/anaconda3/lib/python3.12/site-packages/dask/order.py:191\u001b[0m, in \u001b[0;36morder\u001b[0;34m(dsk, dependencies, return_stats)\u001b[0m\n\u001b[1;32m    186\u001b[0m     \u001b[38;5;28;01mraise\u001b[39;00m \u001b[38;5;167;01mRuntimeError\u001b[39;00m(\n\u001b[1;32m    187\u001b[0m         \u001b[38;5;124m\"\u001b[39m\u001b[38;5;124mCycle detected between the following keys:\u001b[39m\u001b[38;5;130;01m\\n\u001b[39;00m\u001b[38;5;124m  -> \u001b[39m\u001b[38;5;132;01m%s\u001b[39;00m\u001b[38;5;124m\"\u001b[39m\n\u001b[1;32m    188\u001b[0m         \u001b[38;5;241m%\u001b[39m \u001b[38;5;124m\"\u001b[39m\u001b[38;5;130;01m\\n\u001b[39;00m\u001b[38;5;124m  -> \u001b[39m\u001b[38;5;124m\"\u001b[39m\u001b[38;5;241m.\u001b[39mjoin(\u001b[38;5;28mstr\u001b[39m(x) \u001b[38;5;28;01mfor\u001b[39;00m x \u001b[38;5;129;01min\u001b[39;00m cycle)\n\u001b[1;32m    189\u001b[0m     )\n\u001b[1;32m    190\u001b[0m \u001b[38;5;28;01massert\u001b[39;00m dependencies \u001b[38;5;129;01mis\u001b[39;00m \u001b[38;5;129;01mnot\u001b[39;00m \u001b[38;5;28;01mNone\u001b[39;00m\n\u001b[0;32m--> 191\u001b[0m roots_connected, max_dependents \u001b[38;5;241m=\u001b[39m _connecting_to_roots(dependencies, dependents)\n\u001b[1;32m    192\u001b[0m leafs_connected, _ \u001b[38;5;241m=\u001b[39m _connecting_to_roots(dependents, dependencies)\n\u001b[1;32m    193\u001b[0m i \u001b[38;5;241m=\u001b[39m \u001b[38;5;241m0\u001b[39m\n",
      "File \u001b[0;32m~/anaconda3/lib/python3.12/site-packages/dask/order.py:646\u001b[0m, in \u001b[0;36m_connecting_to_roots\u001b[0;34m(dependencies, dependents)\u001b[0m\n\u001b[1;32m    643\u001b[0m                 current\u001b[38;5;241m.\u001b[39mappend(child)\n\u001b[1;32m    645\u001b[0m dedup_mapping: \u001b[38;5;28mdict\u001b[39m[\u001b[38;5;28mfrozenset\u001b[39m[Key], \u001b[38;5;28mfrozenset\u001b[39m[Key]] \u001b[38;5;241m=\u001b[39m {}\n\u001b[0;32m--> 646\u001b[0m \u001b[38;5;28;01mwhile\u001b[39;00m current:\n\u001b[1;32m    647\u001b[0m     key \u001b[38;5;241m=\u001b[39m current\u001b[38;5;241m.\u001b[39mpop()\n\u001b[1;32m    648\u001b[0m     \u001b[38;5;28;01mif\u001b[39;00m key \u001b[38;5;129;01min\u001b[39;00m result:\n",
      "\u001b[0;31mKeyboardInterrupt\u001b[0m: "
     ]
    }
   ],
   "source": [
    "mean_latency = combined_frame.latency.mean().compute()\n",
    "print(\"Mean latency: \", mean_latency)"
   ]
  },
  {
   "cell_type": "code",
   "execution_count": null,
   "metadata": {},
   "outputs": [],
   "source": [
    "median_latency = combined_frame.latency.median_approximate().compute()\n",
    "print(\"Median latency: \", median_latency)"
   ]
  }
 ],
 "metadata": {
  "kernelspec": {
   "display_name": "base",
   "language": "python",
   "name": "python3"
  },
  "language_info": {
   "codemirror_mode": {
    "name": "ipython",
    "version": 3
   },
   "file_extension": ".py",
   "mimetype": "text/x-python",
   "name": "python",
   "nbconvert_exporter": "python",
   "pygments_lexer": "ipython3",
   "version": "3.12.2"
  }
 },
 "nbformat": 4,
 "nbformat_minor": 4
}
