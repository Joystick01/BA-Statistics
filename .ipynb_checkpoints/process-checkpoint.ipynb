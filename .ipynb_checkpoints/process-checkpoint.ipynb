{
 "cells": [
  {
   "cell_type": "markdown",
   "metadata": {},
   "source": [
    "# Filter and save as parquet"
   ]
  },
  {
   "cell_type": "code",
   "execution_count": 2,
   "metadata": {},
   "outputs": [],
   "source": [
    "input_egress_path = \"/media/kakn/storage/message_export/low_v1/egress\"\n",
    "input_ingress_path = \"/media/kakn/storage/message_export/low_v1/ingress\"\n",
    "output_file = \"/media/kakn/storage/filtered/low_v1.parquet\""
   ]
  },
  {
   "cell_type": "code",
   "execution_count": null,
   "metadata": {},
   "outputs": [
    {
     "name": "stdout",
     "output_type": "stream",
     "text": [
      "   cng_deviceId                 timestamp            timePeriodStart  \\\n",
      "0  8.901170e+19 2020-01-01 01:00:00+00:00  2020-01-01T00:00:00+00:00   \n",
      "\n",
      "            messageTimestamp                          firmwareVersion  \\\n",
      "0  2020-01-02T00:00:03+00:00  M14Q2_v12.09.163431-D54A1_v01.00.190840   \n",
      "\n",
      "   temperature  powerState  coolerState  doorOpenCount  doorCloseCount  ...  \\\n",
      "0          5.7           1            6           57.0            57.0  ...   \n",
      "\n",
      "   mobileCellId  mobileCellType  mobileMNC  mobileMCC mobileRSSI  mobileLac  \\\n",
      "0     1692957.0              4G        1.0      257.0      -68.0        1.0   \n",
      "\n",
      "   messageType  plausibilityState    traceId      kafkaTime  \n",
      "0            0                  0  903692957  1736679214915  \n",
      "\n",
      "[1 rows x 27 columns]\n"
     ]
    }
   ],
   "source": [
    "import os\n",
    "import dask.dataframe as dd\n",
    "\n",
    "ingress_files = list(map( lambda x: os.path.join(input_egress_path, x), [pos_json for pos_json in os.listdir(input_ingress_path) if pos_json.endswith('.json')]))\n",
    "egress_files = list(map( lambda x: os.path.join(input_egress_path, x),[pos_json for pos_json in os.listdir(input_egress_path) if pos_json.endswith('.json')]))\n",
    "\n",
    "ingress_frame = dd.read_json(\"/media/kakn/storage/message_export/low_v1/ingress/0000.json\", lines=True)\n",
    "print(ingress_frame.columns)"
   ]
  }
 ],
 "metadata": {
  "kernelspec": {
   "display_name": "base",
   "language": "python",
   "name": "python3"
  },
  "language_info": {
   "codemirror_mode": {
    "name": "ipython",
    "version": 3
   },
   "file_extension": ".py",
   "mimetype": "text/x-python",
   "name": "python",
   "nbconvert_exporter": "python",
   "pygments_lexer": "ipython3",
   "version": "3.12.2"
  }
 },
 "nbformat": 4,
 "nbformat_minor": 2
}
