{
 "cells": [
  {
   "cell_type": "code",
   "execution_count": 60,
   "metadata": {},
   "outputs": [],
   "source": [
    "run = \"high_v3\"\n",
    "\n",
    "cpu_load = \"/media/kakn/storage/prometheus_export/\" + run + \"/processor_cpu_full.json\"\n",
    "message_folder = \"/media/kakn/storage/message_export/\" + run + \"/egress\""
   ]
  },
  {
   "cell_type": "code",
   "execution_count": 61,
   "metadata": {},
   "outputs": [],
   "source": [
    "range_start = 0\n",
    "range_stop = 0\n",
    "\n",
    "import json, os\n",
    "\n",
    "with open(cpu_load, \"r\") as f:\n",
    "    cpu_load = json.load(f)[\"data\"][\"result\"][0][\"values\"]\n",
    "    cpu_load = list(map(lambda x: (x[0], float(x[1])), cpu_load))\n",
    "\n",
    "\n",
    "for i in range(len(cpu_load) - 19 ):\n",
    "    if all(cpu_load[j][1] > 0.5 for j in range(i, i + 20)):\n",
    "        range_start = cpu_load[i][0]\n",
    "        break\n",
    "\n",
    "for i in range(len(cpu_load) - 19):\n",
    "    if all(cpu_load[j][1] < 0.5 for j in range(i, i + 20)):\n",
    "        range_stop = cpu_load[i-1][0]\n",
    "        break\n",
    "\n",
    "range_start = int(range_start * 1000)\n",
    "range_stop = int(range_stop * 1000)"
   ]
  },
  {
   "cell_type": "code",
   "execution_count": 62,
   "metadata": {},
   "outputs": [],
   "source": [
    "from pyspark.sql import SparkSession\n",
    "spark = SparkSession.builder \\\n",
    ".config(\"spark.driver.host\", \"localhost\") \\\n",
    ".config(\"spark.driver.extraJavaOptions\", \"-Djava.security.manager=allow\") \\\n",
    ".config(\"spark.executor.extraJavaOptions\", \"-Djava.security.manager=allow\") \\\n",
    ".config(\"spark.driver.bindAddress\",\"localhost\")\\\n",
    ".config(\"spark.ui.port\",\"4050\")\\\n",
    ".getOrCreate()"
   ]
  },
  {
   "cell_type": "code",
   "execution_count": 63,
   "metadata": {},
   "outputs": [
    {
     "name": "stderr",
     "output_type": "stream",
     "text": [
      "[Stage 76:====================================================> (192 + 6) / 198]\r"
     ]
    },
    {
     "name": "stdout",
     "output_type": "stream",
     "text": [
      "-RECORD 0------------------------------\n",
      " min(kafkaTime)   | 1736694350625      \n",
      " max(kafkaTime)   | 1736696062703      \n",
      " count(kafkaTime) | 31473698           \n",
      " rate mgs/ms      | 18.383331834180453 \n",
      "\n"
     ]
    },
    {
     "name": "stderr",
     "output_type": "stream",
     "text": [
      "                                                                                \r"
     ]
    }
   ],
   "source": [
    "import pyspark.sql.functions as F\n",
    "\n",
    "message_frame = spark.read.json(message_folder)\n",
    "message_frame = message_frame.filter((message_frame.kafkaTime >= range_start) & (message_frame.kafkaTime <= range_stop))\n",
    "message_frame.select(F.min(\"kafkaTime\"), F.max(\"kafkaTime\"), F.count(\"kafkaTime\"), (F.count(\"kafkaTime\") / (F.max(\"kafkaTime\") - F.min(\"kafkaTime\"))).alias(\"rate mgs/ms\")).show(vertical=True)"
   ]
  }
 ],
 "metadata": {
  "kernelspec": {
   "display_name": "base",
   "language": "python",
   "name": "python3"
  },
  "language_info": {
   "codemirror_mode": {
    "name": "ipython",
    "version": 3
   },
   "file_extension": ".py",
   "mimetype": "text/x-python",
   "name": "python",
   "nbconvert_exporter": "python",
   "pygments_lexer": "ipython3",
   "version": "3.12.2"
  }
 },
 "nbformat": 4,
 "nbformat_minor": 2
}
